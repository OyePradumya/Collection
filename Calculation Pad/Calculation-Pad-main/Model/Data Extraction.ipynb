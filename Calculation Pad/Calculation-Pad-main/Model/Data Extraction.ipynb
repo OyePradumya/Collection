{
 "cells": [
  {
   "cell_type": "code",
   "execution_count": 1,
   "metadata": {},
   "outputs": [],
   "source": [
    "# Required imports\n",
    "import numpy as np\n",
    "import pandas as pd\n",
    "import cv2\n",
    "import os"
   ]
  },
  {
   "cell_type": "code",
   "execution_count": 2,
   "metadata": {},
   "outputs": [],
   "source": [
    "def load_images(folder):\n",
    "    ''' Load the images of the required symbols/digits,\n",
    "    find the maximum bounding rectangle for each symbol/digit images.\n",
    "    Finally resize and reshape into the required dimensions'''\n",
    "    data = []\n",
    "    \n",
    "    for file in os.listdir(folder):\n",
    "        img = cv2.imread(os.path.join(folder, file), cv2.IMREAD_GRAYSCALE)\n",
    "\n",
    "        if img is not None:\n",
    "            img = ~img\n",
    "            _, thresh = cv2.threshold(img, 127, 255, cv2.THRESH_BINARY)\n",
    "            ctrs, _ = cv2.findContours(thresh, cv2.RETR_EXTERNAL, cv2.CHAIN_APPROX_NONE)\n",
    "            cnt = sorted(ctrs, key=lambda ctr: cv2.boundingRect(ctr)[0])\n",
    "\n",
    "            max_area = 0 \n",
    "            for c in cnt:\n",
    "                x, y, w, h = cv2.boundingRect(c)\n",
    "                max_area = max(w*h, max_area) # Get the maximum area bounding rect\n",
    "\n",
    "                if max_area == w*h:\n",
    "                    x_max, y_max = x, y\n",
    "                    w_max, h_max = w, h\n",
    "\n",
    "            cropped = thresh[y_max:y_max+h_max+10, x_max:x_max+w_max+10] # Get the digit/symbol\n",
    "            resized = cv2.resize(cropped, (28,28)) # Resize the image to 28x28\n",
    "            resized = np.reshape(resized, (784,1)) # Reshape to get 784 features\n",
    "            data.append(resized)\n",
    "            \n",
    "    return data"
   ]
  },
  {
   "cell_type": "code",
   "execution_count": 3,
   "metadata": {},
   "outputs": [],
   "source": [
    "DATA_PATH = \"../assets/digits_symbols_dataset/\"\n",
    "DIRS = os.listdir(DATA_PATH)\n",
    "\n",
    "HELPER_DICT = {\n",
    "    '0': '0',\n",
    "    '1': '1',\n",
    "    '2': '2',\n",
    "    '3': '3',\n",
    "    '4': '4',\n",
    "    '5': '5',\n",
    "    '6': '6',\n",
    "    '7': '7',\n",
    "    '8': '8',\n",
    "    '9': '9',\n",
    "    '-': '10',\n",
    "    '+': '11',\n",
    "    'times': '12',\n",
    "    'forward_slash': '13',\n",
    "    '-': '14',\n",
    "    '(': '15',\n",
    "    ')': '16',\n",
    "    'sin': '17',\n",
    "    'tan': '18',\n",
    "    'log': '19',\n",
    "    'sqrt': '20',\n",
    "}"
   ]
  },
  {
   "cell_type": "code",
   "execution_count": 4,
   "metadata": {},
   "outputs": [],
   "source": [
    "final_data = []"
   ]
  },
  {
   "cell_type": "code",
   "execution_count": 5,
   "metadata": {},
   "outputs": [
    {
     "name": "stdout",
     "output_type": "stream",
     "text": [
      "forward_slash => 2587 ************* [Dir Index: 1]\n",
      "times => 5587 ************* [Dir Index: 2]\n",
      "sin => 8587 ************* [Dir Index: 3]\n",
      "9 => 11587 ************* [Dir Index: 4]\n",
      "0 => 14587 ************* [Dir Index: 5]\n",
      "7 => 17496 ************* [Dir Index: 6]\n",
      "+ => 20496 ************* [Dir Index: 7]\n",
      "6 => 23496 ************* [Dir Index: 8]\n",
      "1 => 26496 ************* [Dir Index: 9]\n",
      "8 => 29496 ************* [Dir Index: 10]\n",
      "- => 31996 ************* [Dir Index: 11]\n",
      "sqrt => 34996 ************* [Dir Index: 12]\n",
      "log => 36997 ************* [Dir Index: 13]\n",
      "( => 39997 ************* [Dir Index: 14]\n",
      "4 => 42997 ************* [Dir Index: 15]\n",
      "3 => 45997 ************* [Dir Index: 16]\n",
      "tan => 48447 ************* [Dir Index: 17]\n",
      ") => 51447 ************* [Dir Index: 18]\n",
      "2 => 54447 ************* [Dir Index: 19]\n",
      "5 => 57447 ************* [Dir Index: 20]\n"
     ]
    }
   ],
   "source": [
    "ignore = [\".DS_Store\", \".ipynb_checkpoints\"]\n",
    "flag = True\n",
    "idx = 1\n",
    "\n",
    "for folder in DIRS:\n",
    "    if folder not in ignore:\n",
    "        if flag: # Append a symbol/digit data first into the final_data\n",
    "            final_data = load_images(DATA_PATH + folder)\n",
    "            for i in range(len(final_data)):\n",
    "                final_data[i] = np.append(final_data[i], [HELPER_DICT[folder]])\n",
    "            \n",
    "            flag = False\n",
    "            print(f\"{folder} => {len(final_data)} ************* [Dir Index: {idx}]\")\n",
    "        else:\n",
    "            # Concatenate the rest of the symbol/digit data with the final data\n",
    "            data = load_images(DATA_PATH + folder)\n",
    "\n",
    "            for i in range(len(data)):\n",
    "                data[i] = np.append(data[i], [HELPER_DICT[folder]])\n",
    "            final_data = np.concatenate((final_data, data))\n",
    "\n",
    "            print(f\"{folder} => {len(final_data)} ************* [Dir Index: {idx}]\")\n",
    "        idx += 1"
   ]
  },
  {
   "cell_type": "code",
   "execution_count": 6,
   "metadata": {},
   "outputs": [],
   "source": [
    "train_data = pd.DataFrame(final_data, index=None)\n",
    "train_data.to_csv(\"final_train_data.csv\", index=False)"
   ]
  },
  {
   "cell_type": "code",
   "execution_count": null,
   "metadata": {},
   "outputs": [],
   "source": []
  }
 ],
 "metadata": {
  "kernelspec": {
   "display_name": "Python 3",
   "language": "python",
   "name": "python3"
  },
  "language_info": {
   "codemirror_mode": {
    "name": "ipython",
    "version": 3
   },
   "file_extension": ".py",
   "mimetype": "text/x-python",
   "name": "python",
   "nbconvert_exporter": "python",
   "pygments_lexer": "ipython3",
   "version": "3.8.5"
  }
 },
 "nbformat": 4,
 "nbformat_minor": 4
}
